{
 "cells": [
  {
   "cell_type": "markdown",
   "metadata": {},
   "source": [
    "# Primer algoritmo BELLMAN-FORD"
   ]
  },
  {
   "cell_type": "code",
   "execution_count": null,
   "metadata": {},
   "outputs": [],
   "source": [
    "def bellmanFord(indice, origen,filename,n):\n",
    "    file = open(filename)\n",
    "    distancia[origen]= 0\n",
    "    u= line.split(';')[0]\n",
    "    v= line.split(';')[4]\n",
    "    peso= line.split(';')[5]\n",
    "    for i in range(n-1):\n",
    "        for line range file:\n",
    "            if coneccion[u][v]==peso\n",
    "                for line in file:\n",
    "                    Relajacion(u,v,peso)\n",
    "    for line in file:\n",
    "        if coneccion[u][v]==peso:\n",
    "        if Relajacion(u,v,peso):\n",
    "            break\n",
    "        break\n",
    "    "
   ]
  },
  {
   "cell_type": "code",
   "execution_count": null,
   "metadata": {},
   "outputs": [],
   "source": [
    "def Relajacion(actual,adyacente,peso):\n",
    "    if dis[actual]+peso<distancia[adyacente]:\n",
    "        distacia[adyacente]=distancia[actual]+peso"
   ]
  }
 ],
 "metadata": {
  "kernelspec": {
   "display_name": "Python 3",
   "language": "python",
   "name": "python3"
  },
  "language_info": {
   "codemirror_mode": {
    "name": "ipython",
    "version": 3
   },
   "file_extension": ".py",
   "mimetype": "text/x-python",
   "name": "python",
   "nbconvert_exporter": "python",
   "pygments_lexer": "ipython3",
   "version": "3.6.5"
  }
 },
 "nbformat": 4,
 "nbformat_minor": 2
}
